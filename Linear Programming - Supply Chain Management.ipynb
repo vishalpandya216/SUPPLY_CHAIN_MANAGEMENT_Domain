{
 "cells": [
  {
   "cell_type": "markdown",
   "id": "282c2a16",
   "metadata": {},
   "source": [
    "# PROBLEM STATEMENT :\n",
    "\n",
    "- Pillow manufacturing - two types - mixed of feathers and cotton :\n",
    "\n",
    "1) Product A takes 300gm of feather while it takes 500gm of cotton\n",
    "2) Product B take 500gm of feather and 500gm cotton\n",
    "\n",
    "- Your available supply for \"feather and cotton\" are 20 and 35 kg for both product A & B respectively.\n",
    "\n",
    "- The profit for one pillow of A is 25 USD while the profit of pillow of B is 35USD ? \n",
    "\n",
    "- How much units should we product to maximize profit ?"
   ]
  },
  {
   "cell_type": "code",
   "execution_count": 3,
   "id": "1d56b645",
   "metadata": {},
   "outputs": [],
   "source": [
    "ProductA = 25 # $25 \n",
    "ProductB = 35 # $35\n",
    "\n",
    "# 0.3*x1 + 0.5*x2 <=20\n",
    "# 0.5*x1 + 0.5*x2 <=35\n"
   ]
  },
  {
   "cell_type": "code",
   "execution_count": 1,
   "id": "deb54621",
   "metadata": {},
   "outputs": [
    {
     "name": "stdout",
     "output_type": "stream",
     "text": [
      "Requirement already satisfied: pulp in c:\\users\\lenovo\\anaconda3\\lib\\site-packages (2.7.0)\n"
     ]
    },
    {
     "name": "stderr",
     "output_type": "stream",
     "text": [
      "WARNING: Ignoring invalid distribution -rotobuf (c:\\users\\lenovo\\anaconda3\\lib\\site-packages)\n",
      "WARNING: Ignoring invalid distribution -eras (c:\\users\\lenovo\\anaconda3\\lib\\site-packages)\n",
      "WARNING: Ignoring invalid distribution -ensorflow-intel (c:\\users\\lenovo\\anaconda3\\lib\\site-packages)\n",
      "WARNING: Ignoring invalid distribution -rotobuf (c:\\users\\lenovo\\anaconda3\\lib\\site-packages)\n",
      "WARNING: Ignoring invalid distribution -eras (c:\\users\\lenovo\\anaconda3\\lib\\site-packages)\n",
      "WARNING: Ignoring invalid distribution -ensorflow-intel (c:\\users\\lenovo\\anaconda3\\lib\\site-packages)\n",
      "WARNING: Ignoring invalid distribution -rotobuf (c:\\users\\lenovo\\anaconda3\\lib\\site-packages)\n",
      "WARNING: Ignoring invalid distribution -eras (c:\\users\\lenovo\\anaconda3\\lib\\site-packages)\n",
      "WARNING: Ignoring invalid distribution -ensorflow-intel (c:\\users\\lenovo\\anaconda3\\lib\\site-packages)\n",
      "WARNING: Ignoring invalid distribution -rotobuf (c:\\users\\lenovo\\anaconda3\\lib\\site-packages)\n",
      "WARNING: Ignoring invalid distribution -eras (c:\\users\\lenovo\\anaconda3\\lib\\site-packages)\n",
      "WARNING: Ignoring invalid distribution -ensorflow-intel (c:\\users\\lenovo\\anaconda3\\lib\\site-packages)\n",
      "\n",
      "[notice] A new release of pip is available: 23.0.1 -> 23.2\n",
      "[notice] To update, run: python.exe -m pip install --upgrade pip\n"
     ]
    }
   ],
   "source": [
    "!pip install pulp"
   ]
  },
  {
   "cell_type": "code",
   "execution_count": null,
   "id": "0580f083",
   "metadata": {},
   "outputs": [],
   "source": [
    "# https://pypi.org/project/PuLP/"
   ]
  },
  {
   "cell_type": "code",
   "execution_count": 2,
   "id": "feaf9903",
   "metadata": {},
   "outputs": [],
   "source": [
    "from pulp import *"
   ]
  },
  {
   "cell_type": "code",
   "execution_count": 4,
   "id": "6e4359e7",
   "metadata": {},
   "outputs": [
    {
     "data": {
      "text/plain": [
       "pillows:\n",
       "MAXIMIZE\n",
       "None\n",
       "VARIABLES"
      ]
     },
     "execution_count": 4,
     "metadata": {},
     "output_type": "execute_result"
    }
   ],
   "source": [
    "model = LpProblem(\"pillows\", LpMaximize)\n",
    "model"
   ]
  },
  {
   "cell_type": "code",
   "execution_count": 5,
   "id": "0954259b",
   "metadata": {},
   "outputs": [],
   "source": [
    "X1 = LpVariable('X1', 0, None, 'Integer')\n",
    "X2 = LpVariable('X2', 0, None, 'Integer')"
   ]
  },
  {
   "cell_type": "code",
   "execution_count": 6,
   "id": "bec89285",
   "metadata": {},
   "outputs": [],
   "source": [
    "model += X1*25 + X2*35"
   ]
  },
  {
   "cell_type": "code",
   "execution_count": 7,
   "id": "36f58498",
   "metadata": {},
   "outputs": [
    {
     "data": {
      "text/plain": [
       "pillows:\n",
       "MAXIMIZE\n",
       "25*X1 + 35*X2 + 0\n",
       "VARIABLES\n",
       "0 <= X1 Integer\n",
       "0 <= X2 Integer"
      ]
     },
     "execution_count": 7,
     "metadata": {},
     "output_type": "execute_result"
    }
   ],
   "source": [
    "model"
   ]
  },
  {
   "cell_type": "code",
   "execution_count": 8,
   "id": "14252335",
   "metadata": {},
   "outputs": [],
   "source": [
    "model += X1*0.3 + X2*0.5 <=20"
   ]
  },
  {
   "cell_type": "code",
   "execution_count": 9,
   "id": "c5d8efc5",
   "metadata": {},
   "outputs": [
    {
     "data": {
      "text/plain": [
       "pillows:\n",
       "MAXIMIZE\n",
       "25*X1 + 35*X2 + 0\n",
       "SUBJECT TO\n",
       "_C1: 0.3 X1 + 0.5 X2 <= 20\n",
       "\n",
       "VARIABLES\n",
       "0 <= X1 Integer\n",
       "0 <= X2 Integer"
      ]
     },
     "execution_count": 9,
     "metadata": {},
     "output_type": "execute_result"
    }
   ],
   "source": [
    "model"
   ]
  },
  {
   "cell_type": "code",
   "execution_count": 10,
   "id": "9f99a06d",
   "metadata": {},
   "outputs": [],
   "source": [
    "model += X1*0.5 + X2*0.5 <=35"
   ]
  },
  {
   "cell_type": "code",
   "execution_count": 12,
   "id": "cc5925d7",
   "metadata": {},
   "outputs": [
    {
     "data": {
      "text/plain": [
       "1"
      ]
     },
     "execution_count": 12,
     "metadata": {},
     "output_type": "execute_result"
    }
   ],
   "source": [
    "model.solve()"
   ]
  },
  {
   "cell_type": "code",
   "execution_count": 13,
   "id": "8287b8e9",
   "metadata": {},
   "outputs": [
    {
     "data": {
      "text/plain": [
       "65.0"
      ]
     },
     "execution_count": 13,
     "metadata": {},
     "output_type": "execute_result"
    }
   ],
   "source": [
    "X1.varValue"
   ]
  },
  {
   "cell_type": "code",
   "execution_count": 14,
   "id": "c0a18045",
   "metadata": {},
   "outputs": [
    {
     "data": {
      "text/plain": [
       "1.0"
      ]
     },
     "execution_count": 14,
     "metadata": {},
     "output_type": "execute_result"
    }
   ],
   "source": [
    "X2.varValue"
   ]
  },
  {
   "cell_type": "code",
   "execution_count": 15,
   "id": "89b07beb",
   "metadata": {},
   "outputs": [],
   "source": [
    "max_profit = ProductA*X1.varValue + ProductB*X2.varValue"
   ]
  },
  {
   "cell_type": "code",
   "execution_count": 16,
   "id": "a1bf6e01",
   "metadata": {},
   "outputs": [
    {
     "data": {
      "text/plain": [
       "1660.0"
      ]
     },
     "execution_count": 16,
     "metadata": {},
     "output_type": "execute_result"
    }
   ],
   "source": [
    "max_profit"
   ]
  },
  {
   "cell_type": "code",
   "execution_count": null,
   "id": "b1e0d710",
   "metadata": {},
   "outputs": [],
   "source": []
  }
 ],
 "metadata": {
  "kernelspec": {
   "display_name": "Python 3 (ipykernel)",
   "language": "python",
   "name": "python3"
  },
  "language_info": {
   "codemirror_mode": {
    "name": "ipython",
    "version": 3
   },
   "file_extension": ".py",
   "mimetype": "text/x-python",
   "name": "python",
   "nbconvert_exporter": "python",
   "pygments_lexer": "ipython3",
   "version": "3.10.9"
  }
 },
 "nbformat": 4,
 "nbformat_minor": 5
}
